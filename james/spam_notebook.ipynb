{
 "cells": [
  {
   "cell_type": "code",
   "execution_count": null,
   "metadata": {
    "collapsed": false
   },
   "outputs": [
    {
     "name": "stdout",
     "output_type": "stream",
     "text": [
      "Loading raw data\n",
      "Pulling samples from file: /media/data/knighton/data/spam_fyre.txt\n",
      "Pulling samples from file: /media/data/knighton/data/ham_fyre.txt\n",
      "Building transformers\n",
      "Transforming data\n",
      "Locating the most recent checkpoint"
     ]
    }
   ],
   "source": [
    "from argparse import ArgumentParser\n",
    "import datasets\n",
    "from glob import glob\n",
    "from keras_util import EarlyTermination, SaveModelsAndTerminateEarly\n",
    "import networks\n",
    "import numpy as np\n",
    "import pipelines\n",
    "import random\n",
    "from spam import *\n",
    "\n",
    "\n",
    "source = 'fyre'\n",
    "network = 'dense_0_256_6'\n",
    "samples_per_class = 5000\n",
    "\n",
    "\n",
    "random.seed(1337)\n",
    "np.random.seed(1337)\n",
    "\n",
    "print 'Loading raw data'\n",
    "raw_data = datasets.all_impermium_one_source(\n",
    "    samples_per_class, source)\n",
    "\n",
    "print 'Building transformers'\n",
    "X_tf, y_tf = pipelines.json_to_ints2d()\n",
    "\n",
    "print 'Transforming data'\n",
    "data = transform_data(raw_data, X_tf, y_tf)\n",
    "\n",
    "print 'Locating the most recent checkpoint'\n",
    "model_dir = 'models/%d_%s' % (\n",
    "    samples_per_class, network)\n",
    "start_weights, resume_epoch = get_last_checkpoint(model_dir)\n",
    "\n",
    "print 'Building model'\n",
    "network, num_frontends = \\\n",
    "    build_model(data, network, start_weights)\n",
    "\n",
    "print 'Training'\n",
    "train(data, network, num_frontends, resume_epoch, model_dir)"
   ]
  },
  {
   "cell_type": "code",
   "execution_count": null,
   "metadata": {
    "collapsed": true
   },
   "outputs": [],
   "source": []
  }
 ],
 "metadata": {
  "kernelspec": {
   "display_name": "Python 2",
   "language": "python2",
   "name": "python2"
  },
  "language_info": {
   "codemirror_mode": {
    "name": "ipython",
    "version": 2
   },
   "file_extension": ".py",
   "mimetype": "text/x-python",
   "name": "python",
   "nbconvert_exporter": "python",
   "pygments_lexer": "ipython2",
   "version": "2.7.6"
  }
 },
 "nbformat": 4,
 "nbformat_minor": 0
}
