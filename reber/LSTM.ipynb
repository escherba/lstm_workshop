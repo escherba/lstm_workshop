{
 "cells": [
  {
   "cell_type": "markdown",
   "metadata": {},
   "source": [
    "# Long Short Term Memory (LSTM)"
   ]
  },
  {
   "cell_type": "markdown",
   "metadata": {},
   "source": [
    "## Problem with standard recurrent nets"
   ]
  },
  {
   "cell_type": "markdown",
   "metadata": {},
   "source": [
    "Standard recurrent nets, during training, will have gradients that either vanish or explode, depending on the size of the largest eigenvalue of the weight matrix. Illustration of a vanishing gradient: "
   ]
  },
  {
   "cell_type": "markdown",
   "metadata": {},
   "source": [
    "<img src=\"vanishing_gradient_50.png\">"
   ]
  },
  {
   "cell_type": "markdown",
   "metadata": {},
   "source": [
    "LSTMs and some other types of *gated* recurrent nets (GRUs among others) don't suffer from this problem. Here is how gradient would propagate through time with an LSTM:"
   ]
  },
  {
   "cell_type": "markdown",
   "metadata": {},
   "source": [
    "<img src=\"lstm_gradient_50.png\">"
   ]
  },
  {
   "cell_type": "markdown",
   "metadata": {},
   "source": [
    "## Structure of LSTM"
   ]
  },
  {
   "cell_type": "markdown",
   "metadata": {},
   "source": [
    "A single LSTM unit looks like this:"
   ]
  },
  {
   "cell_type": "markdown",
   "metadata": {},
   "source": [
    "<img src=\"lstm_diagram_50.png\">"
   ]
  },
  {
   "cell_type": "markdown",
   "metadata": {},
   "source": [
    "One could have multiple LSTM units layed out in parallel, or LSTM units on top of LSTM units, or even bidirectional LSTMs. Here is an example of a parallel layout:"
   ]
  },
  {
   "cell_type": "markdown",
   "metadata": {},
   "source": [
    "<img src=\"lstm_multiple_units_50.png\">"
   ]
  },
  {
   "cell_type": "markdown",
   "metadata": {},
   "source": [
    "## Theano Implementation"
   ]
  },
  {
   "cell_type": "markdown",
   "metadata": {},
   "source": [
    "After http://christianherta.de/lehre/dataScience/machineLearning/neuralNetworks/LSTM.php"
   ]
  },
  {
   "cell_type": "code",
   "execution_count": 72,
   "metadata": {
    "collapsed": false
   },
   "outputs": [],
   "source": [
    "import numpy as np\n",
    "import theano\n",
    "import theano.tensor as T\n",
    "\n",
    "dtype=theano.config.floatX"
   ]
  },
  {
   "cell_type": "markdown",
   "metadata": {},
   "source": [
    "<img src=\"LSTM_definition_corrected_50.png\">"
   ]
  },
  {
   "cell_type": "code",
   "execution_count": 73,
   "metadata": {
    "collapsed": true
   },
   "outputs": [],
   "source": [
    "# squashing of the gates should result in values between 0 and 1\n",
    "# therefore we use the logistic function\n",
    "sigma = lambda x: 1 / (1 + T.exp(-x))\n",
    "\n",
    "# for the other activation function we use the tanh\n",
    "act = T.tanh\n",
    "\n",
    "# sequences: x_t\n",
    "# prior results: h_tm1, c_tm1\n",
    "# non-sequences: W_xi, W_hi, W_ci, b_i, W_xf, W_hf, W_cf, b_f, W_xc, W_hc, b_c, \n",
    "#                W_xy, W_hy, W_cy, b_y\n",
    "def one_lstm_step(x_t, h_tm1, c_tm1, W_xi, W_hi, W_ci, b_i, W_xf, W_hf, W_cf, \n",
    "                  b_f, W_xc, W_hc, b_c, W_xy, W_ho, W_cy, b_o, W_hy, b_y):\n",
    "    i_t = sigma(theano.dot(x_t, W_xi) + theano.dot(h_tm1, W_hi) + \\\n",
    "                theano.dot(c_tm1, W_ci) + b_i)\n",
    "    f_t = sigma(theano.dot(x_t, W_xf) + theano.dot(h_tm1, W_hf) + \\\n",
    "                theano.dot(c_tm1, W_cf) + b_f)\n",
    "    c_t = f_t * c_tm1 + i_t * act(theano.dot(x_t, W_xc) + \n",
    "                                  theano.dot(h_tm1, W_hc) + b_c) \n",
    "    o_t = sigma(theano.dot(x_t, W_xo)+ theano.dot(h_tm1, W_ho) + \n",
    "                theano.dot(c_t, W_co)  + b_o)\n",
    "    h_t = o_t * act(c_t)\n",
    "    y_t = sigma(theano.dot(h_t, W_hy) + b_y) \n",
    "    return [h_t, c_t, y_t]"
   ]
  },
  {
   "cell_type": "code",
   "execution_count": 74,
   "metadata": {
    "collapsed": true
   },
   "outputs": [],
   "source": [
    "def sample_weights(sizeX, sizeY):\n",
    "    values = np.ndarray([sizeX, sizeY], dtype=dtype)\n",
    "    for dx in xrange(sizeX):\n",
    "        values[dx,:] = np.random.uniform(low=-1., high=1., size=(sizeY,))\n",
    "    _, svs, _ = np.linalg.svd(values)\n",
    "    #svs[0] is the largest singular value                      \n",
    "    values = values / svs[0]\n",
    "    return values  "
   ]
  },
  {
   "cell_type": "markdown",
   "metadata": {},
   "source": [
    "<img src=\"lstm_pooling.png\">"
   ]
  },
  {
   "cell_type": "code",
   "execution_count": 75,
   "metadata": {
    "collapsed": true
   },
   "outputs": [],
   "source": [
    "n_in = 7 # for embedded reber grammar\n",
    "n_hidden = n_i = n_c = n_o = n_f = 10\n",
    "n_y = 7 # for embedded reber grammar\n",
    "\n",
    "# initialize weights\n",
    "# i_t and o_t should be \"open\" or \"closed\"\n",
    "# f_t should be \"open\" (don't forget at the beginning of training)\n",
    "# we try to archive this by appropriate initialization of the corresponding biases \n",
    "\n",
    "W_xi = theano.shared(sample_weights(n_in, n_i))  \n",
    "W_hi = theano.shared(sample_weights(n_hidden, n_i))  \n",
    "W_ci = theano.shared(sample_weights(n_c, n_i))  \n",
    "b_i = theano.shared(np.cast[dtype](np.random.uniform(-0.5,.5,size = n_i)))\n",
    "W_xf = theano.shared(sample_weights(n_in, n_f)) \n",
    "W_hf = theano.shared(sample_weights(n_hidden, n_f))\n",
    "W_cf = theano.shared(sample_weights(n_c, n_f))\n",
    "b_f = theano.shared(np.cast[dtype](np.random.uniform(0, 1.,size = n_f)))\n",
    "W_xc = theano.shared(sample_weights(n_in, n_c))  \n",
    "W_hc = theano.shared(sample_weights(n_hidden, n_c))\n",
    "b_c = theano.shared(np.zeros(n_c, dtype=dtype))\n",
    "W_xo = theano.shared(sample_weights(n_in, n_o))\n",
    "W_ho = theano.shared(sample_weights(n_hidden, n_o))\n",
    "W_co = theano.shared(sample_weights(n_c, n_o))\n",
    "b_o = theano.shared(np.cast[dtype](np.random.uniform(-0.5,.5,size = n_o)))\n",
    "W_hy = theano.shared(sample_weights(n_hidden, n_y))\n",
    "b_y = theano.shared(np.zeros(n_y, dtype=dtype))\n",
    "\n",
    "c0 = theano.shared(np.zeros(n_hidden, dtype=dtype))\n",
    "h0 = T.tanh(c0)\n",
    "\n",
    "params = [W_xi, W_hi, W_ci, b_i, W_xf, W_hf, W_cf, b_f, W_xc, W_hc, b_c,\n",
    "          W_xo, W_ho, W_co, b_o, W_hy, b_y, c0]"
   ]
  },
  {
   "cell_type": "code",
   "execution_count": 76,
   "metadata": {
    "collapsed": true
   },
   "outputs": [],
   "source": [
    "#first dimension is time\n",
    "\n",
    "#input \n",
    "v = T.matrix(dtype=dtype)\n",
    "\n",
    "# target\n",
    "target = T.matrix(dtype=dtype)"
   ]
  },
  {
   "cell_type": "code",
   "execution_count": 77,
   "metadata": {
    "collapsed": true
   },
   "outputs": [],
   "source": [
    "# hidden and outputs of the entire sequence\n",
    "[h_vals, _, y_vals], _ = theano.scan(\n",
    "    fn=one_lstm_step, \n",
    "    sequences = dict(input=v, taps=[0]), \n",
    "    outputs_info = [h0, c0, None ], # corresponds to return type of fn\n",
    "    non_sequences = [W_xi, W_hi, W_ci, b_i, W_xf, W_hf, W_cf, b_f, W_xc, W_hc,\n",
    "                     b_c, W_xo, W_ho, W_co, b_o, W_hy, b_y]\n",
    ")"
   ]
  },
  {
   "cell_type": "code",
   "execution_count": 78,
   "metadata": {
    "collapsed": true
   },
   "outputs": [],
   "source": [
    "# cross-entropy cost\n",
    "cost = -T.mean(target * T.log(y_vals) + (1.- target) * T.log(1. - y_vals))\n",
    "learning_rate = theano.shared(np.cast[dtype](.1))"
   ]
  },
  {
   "cell_type": "code",
   "execution_count": 79,
   "metadata": {
    "collapsed": true
   },
   "outputs": [],
   "source": [
    "gparams = []\n",
    "for param in params:\n",
    "    gparam = T.grad(cost, param)\n",
    "    gparams.append(gparam)\n",
    "\n",
    "updates=[]\n",
    "for param, gparam in zip(params, gparams):\n",
    "    updates.append((param, param - gparam * learning_rate))"
   ]
  },
  {
   "cell_type": "markdown",
   "metadata": {},
   "source": [
    "## Learning Reber Grammar"
   ]
  },
  {
   "cell_type": "markdown",
   "metadata": {},
   "source": [
    "Simple version of Reber grammar:"
   ]
  },
  {
   "cell_type": "markdown",
   "metadata": {},
   "source": [
    "<img src=\"reberGrammar.png\">"
   ]
  },
  {
   "cell_type": "markdown",
   "metadata": {},
   "source": [
    "Embedded version:"
   ]
  },
  {
   "cell_type": "markdown",
   "metadata": {},
   "source": [
    "<img src=\"embeddedReberGrammar.png\">"
   ]
  },
  {
   "cell_type": "code",
   "execution_count": 80,
   "metadata": {
    "collapsed": true
   },
   "outputs": [],
   "source": [
    "import reberGrammar\n",
    "train_data = reberGrammar.get_n_embedded_examples(100)"
   ]
  },
  {
   "cell_type": "code",
   "execution_count": 81,
   "metadata": {
    "collapsed": false
   },
   "outputs": [],
   "source": [
    "learn_rnn_fn = theano.function(inputs=[v, target],\n",
    "                               outputs=cost,\n",
    "                               updates=updates)"
   ]
  },
  {
   "cell_type": "code",
   "execution_count": null,
   "metadata": {
    "collapsed": true
   },
   "outputs": [],
   "source": [
    "nb_epochs=200\n",
    "train_errors = np.ndarray(nb_epochs)\n",
    "\n",
    "def train_rnn(train_data):      \n",
    "    for epoch in range(nb_epochs):\n",
    "        error = 0.0\n",
    "        for j in range(len(train_data)):  \n",
    "            index = np.random.randint(0, len(train_data))\n",
    "            i, o = train_data[index]\n",
    "            train_cost = learn_rnn_fn(i, o)\n",
    "            error += train_cost\n",
    "        train_errors[epoch] = error \n",
    "        print epoch, error\n",
    "\n",
    "train_rnn(train_data)"
   ]
  },
  {
   "cell_type": "code",
   "execution_count": 35,
   "metadata": {
    "collapsed": false
   },
   "outputs": [
    {
     "data": {
      "text/plain": [
       "(0.0, 50)"
      ]
     },
     "execution_count": 35,
     "metadata": {},
     "output_type": "execute_result"
    },
    {
     "data": {
      "image/png": "[encoded data removed]",
      "text/plain": [
       "<matplotlib.figure.Figure at 0x2aadf8fc7590>"
      ]
     },
     "metadata": {},
     "output_type": "display_data"
    }
   ],
   "source": [
    "%matplotlib inline\n",
    "import matplotlib.pyplot as plt\n",
    "plt.plot(np.arange(nb_epochs), train_errors, 'b-')\n",
    "plt.xlabel('epochs')\n",
    "plt.ylabel('error')\n",
    "plt.ylim(0., 50)"
   ]
  },
  {
   "cell_type": "markdown",
   "metadata": {},
   "source": [
    "## Predictions"
   ]
  },
  {
   "cell_type": "code",
   "execution_count": 63,
   "metadata": {
    "collapsed": false
   },
   "outputs": [
    {
     "name": "stdout",
     "output_type": "stream",
     "text": [
      "[ 0.  1.  0.  0.  0.  0.  0.]\n",
      "[  1.49718358e-03   5.11488557e-01   2.24089254e-05   2.31526319e-05\n",
      "   4.82351184e-01   1.14407670e-03   4.51986343e-02]\n",
      "\n",
      "[ 0.  0.  0.  0.  1.  0.  0.]\n",
      "[  1.49719242e-03   4.76992846e-01   2.67206706e-05   2.75313341e-05\n",
      "   4.68519747e-01   9.89855267e-04   4.08085883e-02]\n",
      "\n",
      "[ 0.  1.  0.  0.  0.  0.  0.]\n",
      "[  1.79453695e-03   5.27297914e-01   2.28836398e-05   2.36722208e-05\n",
      "   5.08574784e-01   1.02745695e-03   4.42106985e-02]\n",
      "\n",
      "[ 0.  1.  0.  0.  0.  0.  0.]\n",
      "[  2.36487761e-03   5.48388064e-01   2.36356482e-05   2.45287374e-05\n",
      "   5.39140880e-01   8.58101412e-04   4.38702144e-02]\n",
      "\n",
      "[ 0.  0.  0.  0.  1.  0.  0.]\n",
      "[  1.54337706e-03   4.81554449e-01   2.67334453e-05   2.75382135e-05\n",
      "   4.72645819e-01   9.75941017e-04   4.06297147e-02]\n",
      "\n",
      "[ 0.  0.  0.  0.  1.  0.  0.]\n",
      "[  1.57485087e-03   4.65496391e-01   2.74381327e-05   2.82618166e-05\n",
      "   4.68997151e-01   9.57042444e-04   4.19592336e-02]\n",
      "\n",
      "[ 0.  0.  0.  0.  1.  0.  0.]\n",
      "[  1.52073987e-03   4.54384089e-01   2.78926527e-05   2.87623407e-05\n",
      "   4.63348716e-01   9.81677091e-04   4.19134200e-02]\n",
      "\n",
      "[ 0.  1.  0.  0.  0.  0.  0.]\n",
      "[  1.50685362e-03   5.11413157e-01   2.24675550e-05   2.32144685e-05\n",
      "   4.82462585e-01   1.14849152e-03   4.53043953e-02]\n",
      "\n",
      "[ 0.  0.  0.  0.  1.  0.  0.]\n",
      "[  1.50809926e-03   4.79996234e-01   2.66148345e-05   2.74223021e-05\n",
      "   4.70798373e-01   9.84125421e-04   4.06710915e-02]\n",
      "\n",
      "[ 0.  0.  0.  0.  1.  0.  0.]\n",
      "[  1.48749596e-03   4.79821503e-01   2.66087281e-05   2.74339600e-05\n",
      "   4.68479663e-01   9.85668157e-04   4.06760164e-02]\n",
      "\n"
     ]
    }
   ],
   "source": [
    "predictions = theano.function(inputs = [v], outputs = y_vals)\n",
    "test_data = reberGrammar.get_n_embedded_examples(10)\n",
    "\n",
    "def print_out(test_data):\n",
    "    for i, o in test_data:\n",
    "        p = predictions(i)\n",
    "        print o[-2] # target\n",
    "        print p[-2] # prediction\n",
    "        print \n",
    "print_out(test_data)"
   ]
  }
 ],
 "metadata": {
  "kernelspec": {
   "display_name": "Python 2",
   "language": "python2",
   "name": "python2"
  },
  "language_info": {
   "codemirror_mode": {
    "name": "ipython",
    "version": 2
   },
   "file_extension": ".py",
   "mimetype": "text/x-python",
   "name": "python",
   "nbconvert_exporter": "python",
   "pygments_lexer": "ipython2",
   "version": "2.7.6"
  }
 },
 "nbformat": 4,
 "nbformat_minor": 0
}
