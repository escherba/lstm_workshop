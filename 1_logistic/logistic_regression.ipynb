{
 "cells": [
  {
   "cell_type": "markdown",
   "metadata": {},
   "source": [
    "# Logistic Regression using Theano on MNIST digits dataset"
   ]
  },
  {
   "cell_type": "code",
   "execution_count": 151,
   "metadata": {
    "collapsed": false
   },
   "outputs": [],
   "source": [
    "import theano\n",
    "from theano import tensor as T\n",
    "import numpy as np\n",
    "from load import mnist"
   ]
  },
  {
   "cell_type": "code",
   "execution_count": 152,
   "metadata": {
    "collapsed": true
   },
   "outputs": [],
   "source": [
    "def floatX(X):\n",
    "    return np.asarray(X, dtype=theano.config.floatX)\n",
    "\n",
    "def init_weights(shape):\n",
    "    return theano.shared(floatX(np.random.randn(*shape) * 0.01))\n",
    "\n",
    "def model(X, w):\n",
    "    return T.nnet.softmax(T.dot(X, w))"
   ]
  },
  {
   "cell_type": "code",
   "execution_count": 153,
   "metadata": {
    "collapsed": true
   },
   "outputs": [],
   "source": [
    "trX, teX, trY, teY = mnist(onehot=True)"
   ]
  },
  {
   "cell_type": "markdown",
   "metadata": {},
   "source": [
    "Training set (input values X). We have 784 features because MNIST images are 28x28 pixels"
   ]
  },
  {
   "cell_type": "code",
   "execution_count": 161,
   "metadata": {
    "collapsed": false
   },
   "outputs": [
    {
     "data": {
      "image/png": "[encoded data removed]",
      "text/latex": [
       "$$784$$"
      ],
      "text/plain": [
       "784"
      ]
     },
     "execution_count": 161,
     "metadata": {},
     "output_type": "execute_result"
    }
   ],
   "source": [
    "trX.shape[1]"
   ]
  },
  {
   "cell_type": "code",
   "execution_count": 163,
   "metadata": {
    "collapsed": false,
    "scrolled": true
   },
   "outputs": [
    {
     "data": {
      "image/png": "[encoded data removed]",
      "text/latex": [
       "$$10$$"
      ],
      "text/plain": [
       "10"
      ]
     },
     "execution_count": 163,
     "metadata": {},
     "output_type": "execute_result"
    }
   ],
   "source": [
    "trY.shape[1]"
   ]
  },
  {
   "cell_type": "markdown",
   "metadata": {},
   "source": [
    "Note that label matrix `trY` has 10 columns because it's a \"one-hot\" encoding of digits 0..9"
   ]
  },
  {
   "cell_type": "code",
   "execution_count": 164,
   "metadata": {
    "collapsed": true
   },
   "outputs": [],
   "source": [
    "X = T.fmatrix()\n",
    "Y = T.fmatrix()\n",
    "w = init_weights((784, 10))"
   ]
  },
  {
   "cell_type": "code",
   "execution_count": 165,
   "metadata": {
    "collapsed": true
   },
   "outputs": [],
   "source": [
    "learning_rate = 0.05\n",
    "py_x = model(X, w)\n",
    "y_pred = T.argmax(py_x, axis=1)\n",
    "cost = T.mean(T.nnet.categorical_crossentropy(py_x, Y))\n",
    "gradient = T.grad(cost=cost, wrt=w)\n",
    "update = [[w, w - gradient * learning_rate]]"
   ]
  },
  {
   "cell_type": "code",
   "execution_count": 166,
   "metadata": {
    "collapsed": true
   },
   "outputs": [],
   "source": [
    "train = theano.function(inputs=[X, Y], outputs=cost, updates=update, allow_input_downcast=True)\n",
    "predict = theano.function(inputs=[X], outputs=y_pred, allow_input_downcast=True)\n",
    "Yground = np.argmax(teY, axis=1)"
   ]
  },
  {
   "cell_type": "code",
   "execution_count": 167,
   "metadata": {
    "collapsed": false
   },
   "outputs": [
    {
     "name": "stdout",
     "output_type": "stream",
     "text": [
      "0 0.8969\n",
      "10 0.9195\n",
      "20 0.9217\n",
      "30 0.9226\n",
      "40 0.9228\n",
      "50 0.9241\n",
      "60 0.9245\n",
      "70 0.9244\n",
      "80 0.9246\n",
      "90 0.9247\n"
     ]
    }
   ],
   "source": [
    "batch_size = 64\n",
    "num_epochs = 100\n",
    "accuracy_stats = []\n",
    "\n",
    "for epoch in range(num_epochs):\n",
    "    for start, end in zip(range(0, len(trX), batch_size), range(batch_size, len(trX), batch_size)):\n",
    "        cost = train(trX[start:end], trY[start:end])\n",
    "    accuracy = np.mean(Yground == predict(teX))\n",
    "    accuracy_stats.append(accuracy)\n",
    "    \n",
    "    # every 10 epochs, print some stats\n",
    "    if epoch % 10 == 0:\n",
    "        print epoch, accuracy"
   ]
  },
  {
   "cell_type": "code",
   "execution_count": 168,
   "metadata": {
    "collapsed": true
   },
   "outputs": [],
   "source": [
    "%matplotlib inline\n",
    "import matplotlib\n",
    "import numpy as np\n",
    "import matplotlib.pyplot as plt"
   ]
  },
  {
   "cell_type": "code",
   "execution_count": 169,
   "metadata": {
    "collapsed": false
   },
   "outputs": [
    {
     "data": {
      "text/plain": [
       "<matplotlib.text.Text at 0x2afe01a844d0>"
      ]
     },
     "execution_count": 169,
     "metadata": {},
     "output_type": "execute_result"
    },
    {
     "data": {
      "image/png": "[encoded data removed]",
      "text/plain": [
       "<matplotlib.figure.Figure at 0x2afe012de490>"
      ]
     },
     "metadata": {},
     "output_type": "display_data"
    }
   ],
   "source": [
    "plt.plot(accuracy_stats)\n",
    "plt.xlabel('epoch')\n",
    "plt.ylabel('accuracy')"
   ]
  },
  {
   "cell_type": "markdown",
   "metadata": {},
   "source": [
    "## Appendix 1: Categorical cross-entropy"
   ]
  },
  {
   "cell_type": "code",
   "execution_count": 148,
   "metadata": {
    "collapsed": false
   },
   "outputs": [
    {
     "data": {
      "image/png": "[encoded data removed]",
      "text/latex": [
       "$$\\frac{1}{N} \\sum_{n=1}^{N} H{\\left (p[n],q[n] \\right )}$$"
      ],
      "text/plain": [
       "  N                \n",
       " ___               \n",
       " ╲                 \n",
       "  ╲   H(p[n], q[n])\n",
       "  ╱                \n",
       " ╱                 \n",
       " ‾‾‾               \n",
       "n = 1              \n",
       "───────────────────\n",
       "         N         "
      ]
     },
     "metadata": {},
     "output_type": "display_data"
    }
   ],
   "source": [
    "from IPython.display import display\n",
    "from sympy import Sum, log, var, solve, symbols\n",
    "from sympy.tensor import IndexedBase, Idx\n",
    "\n",
    "from sympy import init_printing\n",
    "init_printing()\n",
    "\n",
    "H, y, n, N = var('H, y, n, N')\n",
    "y = IndexedBase('y')\n",
    "p = IndexedBase('p')\n",
    "q = IndexedBase('q')\n",
    "f = lambda p, q, N: (1/N) * Sum(H(p[n], q[n]), (n, 1, N))\n",
    "display(f(p, q, N))"
   ]
  },
  {
   "cell_type": "code",
   "execution_count": 149,
   "metadata": {
    "collapsed": true
   },
   "outputs": [],
   "source": [
    "g = lambda y, p, N: -(1/N) * Sum(y[n] * log(p[n]) + (1 - y[n]) * log(1 - p[n]), (n, 1, N))"
   ]
  },
  {
   "cell_type": "code",
   "execution_count": 150,
   "metadata": {
    "collapsed": false
   },
   "outputs": [
    {
     "data": {
      "image/png": "[encoded data removed]",
      "text/latex": [
       "$$- \\frac{1}{N} \\sum_{n=1}^{N} \\left(\\left(1 - y[n]\\right) \\log{\\left (1 - p[n] \\right )} + y[n] \\log{\\left (p[n] \\right )}\\right)$$"
      ],
      "text/plain": [
       "   N                                               \n",
       "  ___                                              \n",
       "  ╲                                                \n",
       "   ╲   ((1 - y[n])⋅log(1 - p[n]) + y[n]⋅log(p[n])) \n",
       "-  ╱                                               \n",
       "  ╱                                                \n",
       "  ‾‾‾                                              \n",
       " n = 1                                             \n",
       "───────────────────────────────────────────────────\n",
       "                         N                         "
      ]
     },
     "metadata": {},
     "output_type": "display_data"
    }
   ],
   "source": [
    "display(g(y, p, N))"
   ]
  }
 ],
 "metadata": {
  "kernelspec": {
   "display_name": "Python 2",
   "language": "python2",
   "name": "python2"
  },
  "language_info": {
   "codemirror_mode": {
    "name": "ipython",
    "version": 2
   },
   "file_extension": ".py",
   "mimetype": "text/x-python",
   "name": "python",
   "nbconvert_exporter": "python",
   "pygments_lexer": "ipython2",
   "version": "2.7.6"
  }
 },
 "nbformat": 4,
 "nbformat_minor": 0
}
